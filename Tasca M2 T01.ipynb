{
 "cells": [
  {
   "cell_type": "markdown",
   "id": "72dcf043",
   "metadata": {},
   "source": [
    "# Tasca M2 T01"
   ]
  },
  {
   "cell_type": "markdown",
   "id": "9ca705f9",
   "metadata": {},
   "source": [
    "## Exercici 1\n",
    "\n",
    "Crea una llista que agrupi els mesos de l’any en trimestres \n",
    "(1T: gener, febrer i març; 2T: abril, maig, juny...), és a dir, una llista amb 4 llistes dins."
   ]
  },
  {
   "cell_type": "code",
   "execution_count": 16,
   "id": "a1e84aa4",
   "metadata": {},
   "outputs": [],
   "source": [
    "any = [['gener', 'febrer', 'març'], \n",
    "       ['abril', 'maig', 'juny'], \n",
    "       ['juliol', 'agost', 'setembre'], \n",
    "       ['octubre', 'novembre', 'desembre']]"
   ]
  },
  {
   "cell_type": "markdown",
   "id": "ea5a81ad",
   "metadata": {},
   "source": [
    "## Exercici 2\n",
    "\n",
    "Crea un codi que et permeti accedir a:\n",
    "\n",
    "El segon mes del primer trimestre.\n",
    "Els mesos del primer trimestre.\n",
    "Setembre i octubre."
   ]
  },
  {
   "cell_type": "code",
   "execution_count": 17,
   "id": "6bd440e3",
   "metadata": {},
   "outputs": [
    {
     "name": "stdout",
     "output_type": "stream",
     "text": [
      "febrer\n",
      "['gener', 'febrer', 'març']\n",
      "setembre octubre\n"
     ]
    }
   ],
   "source": [
    "print(any[0][1])\n",
    "print(any[0])\n",
    "print(any[2][2], any[3][0])"
   ]
  },
  {
   "cell_type": "markdown",
   "id": "e40fac4f",
   "metadata": {},
   "source": [
    "## Exercici 3\n",
    "\n",
    "Crea una llista amb nombres desordenats i respon a les següents preguntes:\n",
    "\n",
    "- Quants números hi ha?\n",
    "- Quantes vegades apareix el número 3.\n",
    "- Quantes vegades apareixen els nombres 3 i 4?\n",
    "- Quin és el número més gran?\n",
    "- Quins són els 3 números més petits?\n",
    "- Quin és el rang d’aquesta llista?"
   ]
  },
  {
   "cell_type": "code",
   "execution_count": 18,
   "id": "5c74a2c1",
   "metadata": {},
   "outputs": [],
   "source": [
    "import random"
   ]
  },
  {
   "cell_type": "code",
   "execution_count": 19,
   "id": "a76eb9c8",
   "metadata": {},
   "outputs": [
    {
     "name": "stdout",
     "output_type": "stream",
     "text": [
      "[7, 2, 3, 8, 11, 5, 4, 0, 13, 6]\n"
     ]
    }
   ],
   "source": [
    "exercici_3 = random.sample(range(15), 10)\n",
    "print(exercici_3)"
   ]
  },
  {
   "cell_type": "code",
   "execution_count": 56,
   "id": "3f15ccbb",
   "metadata": {},
   "outputs": [
    {
     "name": "stdout",
     "output_type": "stream",
     "text": [
      "En la lista hay 10 números\n"
     ]
    }
   ],
   "source": [
    "print(\"En la lista hay\", len(exercici_3), \"números\")"
   ]
  },
  {
   "cell_type": "code",
   "execution_count": 57,
   "id": "5049feca",
   "metadata": {},
   "outputs": [
    {
     "name": "stdout",
     "output_type": "stream",
     "text": [
      "El número 3 aparece 1 veces en la lista\n"
     ]
    }
   ],
   "source": [
    "num_3 = [x for x in exercici_3 if x == 3]\n",
    "print(\"El número 3 aparece\", len(num_3), \"veces en la lista\")"
   ]
  },
  {
   "cell_type": "code",
   "execution_count": 58,
   "id": "5ba80e97",
   "metadata": {},
   "outputs": [
    {
     "name": "stdout",
     "output_type": "stream",
     "text": [
      "El número 3 o 4 aparecen  2 veces en la lista\n"
     ]
    }
   ],
   "source": [
    "num_3_4 = [x for x in exercici_3 if x == 3 or x == 4]\n",
    "print(\"El número 3 o 4 aparecen \", len(num_3_4), \"veces en la lista\")"
   ]
  },
  {
   "cell_type": "code",
   "execution_count": 59,
   "id": "f0a1bcea",
   "metadata": {},
   "outputs": [
    {
     "name": "stdout",
     "output_type": "stream",
     "text": [
      "El valor máximo de la lista es  13\n"
     ]
    }
   ],
   "source": [
    "max_value = None\n",
    "\n",
    "for x in exercici_3:\n",
    "    if (max_value is None or x > max_value):\n",
    "        max_value = x\n",
    "\n",
    "print(\"El valor máximo de la lista es \", (max_value))"
   ]
  },
  {
   "cell_type": "code",
   "execution_count": 60,
   "id": "0d17d11f",
   "metadata": {},
   "outputs": [
    {
     "name": "stdout",
     "output_type": "stream",
     "text": [
      "Los 3 números más pequeños de la lista son  [0, 2, 3]\n"
     ]
    }
   ],
   "source": [
    "min_3 = sorted(exercici_3)\n",
    "\n",
    "print(\"Los 3 números más pequeños de la lista son \", min_3[0:3])"
   ]
  },
  {
   "cell_type": "code",
   "execution_count": 61,
   "id": "74ce113d",
   "metadata": {},
   "outputs": [
    {
     "name": "stdout",
     "output_type": "stream",
     "text": [
      "El rango de la lista es: 13\n"
     ]
    }
   ],
   "source": [
    "rango = max_value - min(exercici_3)\n",
    "print(\"El rango de la lista es:\", rango)"
   ]
  },
  {
   "cell_type": "markdown",
   "id": "ae128504",
   "metadata": {},
   "source": [
    "## Exercici 4\n",
    "\n",
    "Crea un diccionari de la següent forma i respon a les preguntes:\n",
    "\n",
    "compra = { \"Pomes\" : {\"Qty\": 5, \"€\": 0.42}, \"Peres\" : {\"Qty\": 3, \"€\": 0.66} }\n",
    "\n",
    "- Afegeix alguna fruita més\n",
    "- Quant han costat les peres en total?\n",
    "- Quantes fruites hem comprat en total?\n",
    "- Quina és la fruita més cara?"
   ]
  },
  {
   "cell_type": "code",
   "execution_count": 26,
   "id": "a2d9a1b1",
   "metadata": {},
   "outputs": [
    {
     "data": {
      "text/plain": [
       "{'Pomes': {'Qty': 5, '€': 0.42}, 'Peres': {'Qty': 3, '€': 0.66}}"
      ]
     },
     "execution_count": 26,
     "metadata": {},
     "output_type": "execute_result"
    }
   ],
   "source": [
    "compra = { \"Pomes\" : {\"Qty\": 5, \"€\": 0.42}, \"Peres\" : {\"Qty\": 3, \"€\": 0.66} }\n",
    "compra"
   ]
  },
  {
   "cell_type": "code",
   "execution_count": 27,
   "id": "b5dbf37d",
   "metadata": {},
   "outputs": [
    {
     "data": {
      "text/plain": [
       "{'Pomes': {'Qty': 5, '€': 0.42},\n",
       " 'Peres': {'Qty': 3, '€': 0.66},\n",
       " 'Pinyes': {'Qty': 10, '€': 1.5}}"
      ]
     },
     "execution_count": 27,
     "metadata": {},
     "output_type": "execute_result"
    }
   ],
   "source": [
    "compra[\"Pinyes\"]  = {\"Qty\": 10, \"€\": 1.50}\n",
    "compra"
   ]
  },
  {
   "cell_type": "code",
   "execution_count": 62,
   "id": "d6976e10",
   "metadata": {},
   "outputs": [
    {
     "name": "stdout",
     "output_type": "stream",
     "text": [
      "En total las peras costaron 1.98 €\n"
     ]
    }
   ],
   "source": [
    "peras_total = (compra[\"Peres\"][\"€\"] * compra[\"Peres\"][\"Qty\"])\n",
    "print(\"En total las peras costaron\", peras_total, \"€\")"
   ]
  },
  {
   "cell_type": "code",
   "execution_count": 63,
   "id": "9cd68e48",
   "metadata": {},
   "outputs": [
    {
     "name": "stdout",
     "output_type": "stream",
     "text": [
      "Compré 3 frutas en total\n"
     ]
    }
   ],
   "source": [
    "fruites_total = str(len(compra.keys()))\n",
    "                    \n",
    "print(\"Compré\", fruites_total, \"frutas en total\")"
   ]
  },
  {
   "cell_type": "code",
   "execution_count": 65,
   "id": "7eb164a8",
   "metadata": {},
   "outputs": [
    {
     "name": "stdout",
     "output_type": "stream",
     "text": [
      "La fruta más cara es: Pinyes\n"
     ]
    }
   ],
   "source": [
    "fruta_mas_cara = max(compra, key=lambda x: compra[x]['€'])\n",
    "print(\"La fruta más cara es:\", fruta_mas_cara)"
   ]
  }
 ],
 "metadata": {
  "kernelspec": {
   "display_name": "Python 3 (ipykernel)",
   "language": "python",
   "name": "python3"
  },
  "language_info": {
   "codemirror_mode": {
    "name": "ipython",
    "version": 3
   },
   "file_extension": ".py",
   "mimetype": "text/x-python",
   "name": "python",
   "nbconvert_exporter": "python",
   "pygments_lexer": "ipython3",
   "version": "3.10.11"
  }
 },
 "nbformat": 4,
 "nbformat_minor": 5
}
